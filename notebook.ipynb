{
 "cells": [
  {
   "cell_type": "code",
   "execution_count": null,
   "metadata": {},
   "outputs": [],
   "source": [
    "import sqlite3\n",
    "import plotly.express as px\n",
    "import streamlit as st\n",
    "import pandas as pd\n",
    "\n",
    "# Connect to the database and execute the query\n",
    "conn = sqlite3.connect('data/sensitive_areas.db')\n",
    "df = pd.read_sql_query(\"SELECT region AS Category, COUNT(*) AS Total FROM sensitive_areas GROUP BY region\", conn)\n",
    "\n",
    "# Visualize data with Plotly Express bar chart\n",
    "fig = px.bar(df, x='Category', y='Total', title=\"Sensitive Areas by Region\")\n",
    "\n",
    "# Display the chart using Streamlit\n",
    "st.plotly_chart(fig)"
   ]
  }
 ],
 "metadata": {
  "kernelspec": {
   "display_name": "venv",
   "language": "python",
   "name": "python3"
  },
  "language_info": {
   "codemirror_mode": {
    "name": "ipython",
    "version": 3
   },
   "file_extension": ".py",
   "mimetype": "text/x-python",
   "name": "python",
   "nbconvert_exporter": "python",
   "pygments_lexer": "ipython3",
   "version": "3.10.13"
  }
 },
 "nbformat": 4,
 "nbformat_minor": 2
}
